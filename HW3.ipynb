{
 "cells": [
  {
   "cell_type": "code",
   "execution_count": 11,
   "metadata": {},
   "outputs": [],
   "source": [
    "import numpy as np\n",
    "import pandas as pd\n",
    "\n",
    "from sklearn.feature_extraction.text import TfidfVectorizer\n",
    "from sklearn.linear_model import LogisticRegression\n",
    "from sklearn.model_selection import cross_val_score, train_test_split\n",
    "from scipy.sparse import hstack\n",
    "from sklearn.pipeline import Pipeline, make_pipeline\n",
    "from sklearn.base import BaseEstimator, TransformerMixin\n",
    "from sklearn.metrics import precision_recall_curve, roc_curve, roc_auc_score, confusion_matrix\n",
    "from sklearn.ensemble import GradientBoostingClassifier, RandomForestClassifier"
   ]
  },
  {
   "cell_type": "code",
   "execution_count": 2,
   "metadata": {},
   "outputs": [
    {
     "data": {
      "text/html": [
       "<div>\n",
       "<style scoped>\n",
       "    .dataframe tbody tr th:only-of-type {\n",
       "        vertical-align: middle;\n",
       "    }\n",
       "\n",
       "    .dataframe tbody tr th {\n",
       "        vertical-align: top;\n",
       "    }\n",
       "\n",
       "    .dataframe thead th {\n",
       "        text-align: right;\n",
       "    }\n",
       "</style>\n",
       "<table border=\"1\" class=\"dataframe\">\n",
       "  <thead>\n",
       "    <tr style=\"text-align: right;\">\n",
       "      <th></th>\n",
       "      <th>id</th>\n",
       "      <th>age</th>\n",
       "      <th>gender</th>\n",
       "      <th>height</th>\n",
       "      <th>weight</th>\n",
       "      <th>ap_hi</th>\n",
       "      <th>ap_lo</th>\n",
       "      <th>cholesterol</th>\n",
       "      <th>gluc</th>\n",
       "      <th>smoke</th>\n",
       "      <th>alco</th>\n",
       "      <th>active</th>\n",
       "      <th>cardio</th>\n",
       "    </tr>\n",
       "  </thead>\n",
       "  <tbody>\n",
       "    <tr>\n",
       "      <th>0</th>\n",
       "      <td>0</td>\n",
       "      <td>18393</td>\n",
       "      <td>2</td>\n",
       "      <td>168</td>\n",
       "      <td>62.0</td>\n",
       "      <td>110</td>\n",
       "      <td>80</td>\n",
       "      <td>1</td>\n",
       "      <td>1</td>\n",
       "      <td>0</td>\n",
       "      <td>0</td>\n",
       "      <td>1</td>\n",
       "      <td>0</td>\n",
       "    </tr>\n",
       "    <tr>\n",
       "      <th>1</th>\n",
       "      <td>1</td>\n",
       "      <td>20228</td>\n",
       "      <td>1</td>\n",
       "      <td>156</td>\n",
       "      <td>85.0</td>\n",
       "      <td>140</td>\n",
       "      <td>90</td>\n",
       "      <td>3</td>\n",
       "      <td>1</td>\n",
       "      <td>0</td>\n",
       "      <td>0</td>\n",
       "      <td>1</td>\n",
       "      <td>1</td>\n",
       "    </tr>\n",
       "    <tr>\n",
       "      <th>2</th>\n",
       "      <td>2</td>\n",
       "      <td>18857</td>\n",
       "      <td>1</td>\n",
       "      <td>165</td>\n",
       "      <td>64.0</td>\n",
       "      <td>130</td>\n",
       "      <td>70</td>\n",
       "      <td>3</td>\n",
       "      <td>1</td>\n",
       "      <td>0</td>\n",
       "      <td>0</td>\n",
       "      <td>0</td>\n",
       "      <td>1</td>\n",
       "    </tr>\n",
       "  </tbody>\n",
       "</table>\n",
       "</div>"
      ],
      "text/plain": [
       "   id    age  gender  height  weight  ap_hi  ap_lo  cholesterol  gluc  smoke  \\\n",
       "0   0  18393       2     168    62.0    110     80            1     1      0   \n",
       "1   1  20228       1     156    85.0    140     90            3     1      0   \n",
       "2   2  18857       1     165    64.0    130     70            3     1      0   \n",
       "\n",
       "   alco  active  cardio  \n",
       "0     0       1       0  \n",
       "1     0       1       1  \n",
       "2     0       0       1  "
      ]
     },
     "execution_count": 2,
     "metadata": {},
     "output_type": "execute_result"
    }
   ],
   "source": [
    "df = pd.read_csv('train_case2.csv', ';')\n",
    "df.head(3)"
   ]
  },
  {
   "cell_type": "markdown",
   "metadata": {},
   "source": [
    "Разделим наши данные на тренировочную и тестовую выборки"
   ]
  },
  {
   "cell_type": "code",
   "execution_count": 3,
   "metadata": {},
   "outputs": [],
   "source": [
    "#разделим данные на train/test\n",
    "X_train, X_test, y_train, y_test = train_test_split(df.drop('cardio', 1), \n",
    "                                                    df['cardio'], random_state=0)"
   ]
  },
  {
   "cell_type": "markdown",
   "metadata": {},
   "source": [
    "К полям:\n",
    "- gender, cholesterol применим OHE-кодирование\n",
    "- age, height, weight, ap_hi, ap_lo - standardScaler\n",
    "- gluc, smoke, alco, active - оставим пока как есть"
   ]
  },
  {
   "cell_type": "code",
   "execution_count": 4,
   "metadata": {},
   "outputs": [],
   "source": [
    "class ColumnSelector(BaseEstimator, TransformerMixin):\n",
    "    \"\"\"\n",
    "    Transformer to select a single column from the data frame to perform additional transformations on\n",
    "    \"\"\"\n",
    "    def __init__(self, key):\n",
    "        self.key = key\n",
    "\n",
    "    def fit(self, X, y=None):\n",
    "        return self\n",
    "\n",
    "    def transform(self, X):\n",
    "        return X[self.key]\n",
    "    \n",
    "class NumberSelector(BaseEstimator, TransformerMixin):\n",
    "    \"\"\"\n",
    "    Transformer to select a single column from the data frame to perform additional transformations on\n",
    "    Use on numeric columns in the data\n",
    "    \"\"\"\n",
    "    def __init__(self, key):\n",
    "        self.key = key\n",
    "\n",
    "    def fit(self, X, y=None):\n",
    "        return self\n",
    "\n",
    "    def transform(self, X):\n",
    "        return X[[self.key]]\n",
    "    \n",
    "class OHEEncoder(BaseEstimator, TransformerMixin):\n",
    "    def __init__(self, key):\n",
    "        self.key = key\n",
    "        self.columns = []\n",
    "\n",
    "    def fit(self, X, y=None):\n",
    "        self.columns = [col for col in pd.get_dummies(X, prefix=self.key).columns]\n",
    "        return self\n",
    "\n",
    "    def transform(self, X):\n",
    "        X = pd.get_dummies(X, prefix=self.key)\n",
    "        test_columns = [col for col in X.columns]\n",
    "        for col_ in test_columns:\n",
    "            if col_ not in self.columns:\n",
    "                X[col_] = 0\n",
    "        return X[self.columns]\n",
    "\n",
    "\n",
    "from sklearn.preprocessing import StandardScaler\n",
    "\n",
    "\n",
    "continuos_cols = ['age', 'height', 'weight', 'ap_hi', 'ap_lo']\n",
    "cat_cols = ['gender', 'cholesterol']\n",
    "base_cols = ['gluc', 'smoke', 'alco', 'active']\n",
    "\n",
    "continuos_transformers = []\n",
    "cat_transformers = []\n",
    "base_transformers = []\n",
    "\n",
    "for cont_col in continuos_cols:\n",
    "    transfomer =  Pipeline([\n",
    "                ('selector', NumberSelector(key=cont_col)),\n",
    "                ('standard', StandardScaler())\n",
    "            ])\n",
    "    continuos_transformers.append((cont_col, transfomer))\n",
    "    \n",
    "for cat_col in cat_cols:\n",
    "    cat_transformer = Pipeline([\n",
    "                ('selector', ColumnSelector(key=cat_col)),\n",
    "                ('ohe', OHEEncoder(key=cat_col))\n",
    "            ])\n",
    "    cat_transformers.append((cat_col, cat_transformer))\n",
    "    \n",
    "for base_col in base_cols:\n",
    "    base_transformer = Pipeline([\n",
    "                ('selector', NumberSelector(key=base_col))\n",
    "            ])\n",
    "    base_transformers.append((base_col, base_transformer))"
   ]
  },
  {
   "cell_type": "markdown",
   "metadata": {},
   "source": [
    "Теперь объединим все наши трансформеры с помощью FeatureUnion"
   ]
  },
  {
   "cell_type": "code",
   "execution_count": 5,
   "metadata": {},
   "outputs": [
    {
     "data": {
      "text/plain": [
       "array([[-1.73391771,  0.6873301 ,  0.74843904, ...,  1.        ,\n",
       "         0.        ,  1.        ],\n",
       "       [-1.67343538,  0.07758923, -0.29640123, ...,  0.        ,\n",
       "         0.        ,  1.        ],\n",
       "       [ 0.13738132,  1.17512278, -0.15708919, ...,  0.        ,\n",
       "         0.        ,  0.        ],\n",
       "       ...,\n",
       "       [ 1.17775864,  1.17512278, -0.15708919, ...,  0.        ,\n",
       "         0.        ,  1.        ],\n",
       "       [-0.47190715, -1.38578883,  0.74843904, ...,  0.        ,\n",
       "         0.        ,  1.        ],\n",
       "       [ 0.38174619,  0.56538192, -0.08743318, ...,  0.        ,\n",
       "         0.        ,  1.        ]])"
      ]
     },
     "execution_count": 5,
     "metadata": {},
     "output_type": "execute_result"
    }
   ],
   "source": [
    "from sklearn.pipeline import FeatureUnion\n",
    "\n",
    "feats = FeatureUnion(continuos_transformers+cat_transformers+base_transformers)\n",
    "feature_processing = Pipeline([('feats', feats)])\n",
    "\n",
    "feature_processing.fit_transform(X_train)"
   ]
  },
  {
   "cell_type": "markdown",
   "metadata": {},
   "source": [
    "Добавим классификатор и запустим кросс-валидацию"
   ]
  },
  {
   "cell_type": "code",
   "execution_count": 12,
   "metadata": {
    "scrolled": true
   },
   "outputs": [
    {
     "name": "stdout",
     "output_type": "stream",
     "text": [
      "CV score is 0.7867401104915408+-0.00852135511666111\n"
     ]
    }
   ],
   "source": [
    "classifier_log_reg = Pipeline([\n",
    "    ('features',feats),\n",
    "    ('classifier', LogisticRegression(random_state = 42)),\n",
    "])\n",
    "classifier_boost = Pipeline([\n",
    "    ('features',feats),\n",
    "    ('classifier', GradientBoostingClassifier(random_state = 42)),\n",
    "])\n",
    "classifier_forest = Pipeline([\n",
    "    ('features',feats),\n",
    "    ('classifier', RandomForestClassifier(random_state = 42)),\n",
    "])\n",
    "\n",
    "#запустим кросс-валидацию\n",
    "cv_scores_log_reg = cross_val_score(classifier_log_reg, X_train, y_train, cv=16, scoring='roc_auc')\n",
    "cv_score_log_reg = np.mean(cv_scores_log_reg)\n",
    "cv_score_std_log_reg = np.std(cv_scores_log_reg)\n",
    "print('CV score is {}+-{}'.format(cv_score_log_reg, cv_score_std_log_reg))\n",
    "\n",
    "#обучим пайплайн на всем тренировочном датасете\n",
    "classifier_log_reg.fit(X_train, y_train)\n",
    "y_score_log_reg = classifier_log_reg.predict_proba(X_test)[:, 1]"
   ]
  },
  {
   "cell_type": "code",
   "execution_count": 13,
   "metadata": {},
   "outputs": [
    {
     "name": "stdout",
     "output_type": "stream",
     "text": [
      "CV score is 0.8025124517417064+-0.007075372179995901\n"
     ]
    }
   ],
   "source": [
    "#запустим кросс-валидацию для второй модели\n",
    "cv_scores_boost = cross_val_score(classifier_boost, X_train, y_train, cv=16, scoring='roc_auc')\n",
    "cv_score_boost = np.mean(cv_scores_boost)\n",
    "cv_score_std_boost = np.std(cv_scores_boost)\n",
    "print('CV score is {}+-{}'.format(cv_score_boost, cv_score_std_boost))\n",
    "\n",
    "#обучим пайплайн для второй модели на всем тренировочном датасете\n",
    "classifier_boost.fit(X_train, y_train)\n",
    "y_score_boost = classifier_boost.predict_proba(X_test)[:, 1]"
   ]
  },
  {
   "cell_type": "code",
   "execution_count": 14,
   "metadata": {},
   "outputs": [
    {
     "name": "stdout",
     "output_type": "stream",
     "text": [
      "CV score is 0.7734501681056019+-0.007171140345435727\n"
     ]
    }
   ],
   "source": [
    "#запустим кросс-валидацию для третьей модели\n",
    "cv_scores_forest = cross_val_score(classifier_forest, X_train, y_train, cv=16, scoring='roc_auc')\n",
    "cv_score_forest = np.mean(cv_scores_forest)\n",
    "cv_score_std_forest = np.std(cv_scores_forest)\n",
    "print('CV score is {}+-{}'.format(cv_score_forest, cv_score_std_forest))\n",
    "\n",
    "#обучим пайплайн для третьей модели на всем тренировочном датасете\n",
    "classifier_forest.fit(X_train, y_train)\n",
    "y_score_forest = classifier_forest.predict_proba(X_test)[:, 1]"
   ]
  },
  {
   "cell_type": "markdown",
   "metadata": {},
   "source": [
    "Посчитаем precision/recall/f_score"
   ]
  },
  {
   "cell_type": "code",
   "execution_count": 27,
   "metadata": {},
   "outputs": [
    {
     "name": "stdout",
     "output_type": "stream",
     "text": [
      "LogReg\n",
      "Best Threshold=0.068316, F-Score=0.663, Precision=0.497, Recall=0.996\n"
     ]
    }
   ],
   "source": [
    "b=1\n",
    "precision_log_reg, recall_log_reg, thresholds_log_reg = precision_recall_curve(y_test.values, y_score_log_reg)\n",
    "fscore_log_reg = (1+b**2)*(precision_log_reg * recall_log_reg) / (b**2*precision_log_reg + recall_log_reg)\n",
    "ix_log_reg = np.argmax(fscore_log_reg)\n",
    "print('LogReg\\nBest Threshold=%f, F-Score=%.3f, Precision=%.3f, Recall=%.3f' % (thresholds_log_reg[ix], \n",
    "                                                                        fscore_log_reg[ix],\n",
    "                                                                        precision_log_reg[ix],\n",
    "                                                                        recall_log_reg[ix]))\n",
    "cnf_matrix_log_reg = confusion_matrix(y_test, y_score_log_reg>thresholds_log_reg[ix])"
   ]
  },
  {
   "cell_type": "code",
   "execution_count": 28,
   "metadata": {},
   "outputs": [
    {
     "name": "stdout",
     "output_type": "stream",
     "text": [
      "Boost\n",
      "Best Threshold=0.077522, F-Score=0.667, Precision=0.500, Recall=1.000\n"
     ]
    }
   ],
   "source": [
    "b=1\n",
    "precision_boost, recall_boost, thresholds_boost = precision_recall_curve(y_test.values, y_score_boost)\n",
    "fscore_boost = (1+b**2)*(precision_boost * recall_boost) / (b**2*precision_boost + recall_boost)\n",
    "ix_boost = np.argmax(fscore_boost)\n",
    "print('Boost\\nBest Threshold=%f, F-Score=%.3f, Precision=%.3f, Recall=%.3f' % (thresholds_boost[ix], \n",
    "                                                                        fscore_boost[ix],\n",
    "                                                                        precision_boost[ix],\n",
    "                                                                        recall_boost[ix]))\n",
    "cnf_matrix_boost = confusion_matrix(y_test, y_score_boost>thresholds_boost[ix])"
   ]
  },
  {
   "cell_type": "code",
   "execution_count": 29,
   "metadata": {},
   "outputs": [
    {
     "name": "stdout",
     "output_type": "stream",
     "text": [
      "Forest\n",
      "Best Threshold=0.350000, F-Score=0.719, Precision=0.643, Recall=0.816\n"
     ]
    }
   ],
   "source": [
    "b=1\n",
    "precision_forest, recall_forest, thresholds_forest = precision_recall_curve(y_test.values, y_score_forest)\n",
    "fscore_forest = (1+b**2)*(precision_forest * recall_forest) / (b**2*precision_forest + recall_forest)\n",
    "ix_forest = np.argmax(fscore_forest)\n",
    "print('Forest\\nBest Threshold=%f, F-Score=%.3f, Precision=%.3f, Recall=%.3f' % (thresholds_forest[ix], \n",
    "                                                                        fscore_forest[ix],\n",
    "                                                                        precision_forest[ix],\n",
    "                                                                        recall_forest[ix]))\n",
    "cnf_matrix_forest = confusion_matrix(y_test, y_score_forest>thresholds_forest[ix])"
   ]
  },
  {
   "cell_type": "code",
   "execution_count": 26,
   "metadata": {},
   "outputs": [
    {
     "name": "stdout",
     "output_type": "stream",
     "text": [
      "roc auc score LogReg: 0.7840347790421852\n",
      "log loss score LogReg: 0.5779604008230679\n",
      "roc auc score Boost: 0.8026153641179974\n",
      "log loss score Boost: 0.5397460438742135\n",
      "roc auc score Forest: 0.7710366181802983\n",
      "log loss score Forest: 0.5992984853728378\n"
     ]
    }
   ],
   "source": [
    "from sklearn.metrics import roc_auc_score, log_loss\n",
    "print(\"roc auc score LogReg: {}\".format(roc_auc_score(y_true=y_test, y_score=y_score_log_reg)))\n",
    "print(\"log loss score LogReg: {}\".format(log_loss(y_true=y_test, y_pred=y_score_log_reg)))\n",
    "print(\"roc auc score Boost: {}\".format(roc_auc_score(y_true=y_test, y_score=y_score_boost)))\n",
    "print(\"log loss score Boost: {}\".format(log_loss(y_true=y_test, y_pred=y_score_boost)))\n",
    "print(\"roc auc score Forest: {}\".format(roc_auc_score(y_true=y_test, y_score=y_score_forest)))\n",
    "print(\"log loss score Forest: {}\".format(log_loss(y_true=y_test, y_pred=y_score_forest)))"
   ]
  },
  {
   "cell_type": "code",
   "execution_count": 30,
   "metadata": {},
   "outputs": [
    {
     "data": {
      "text/plain": [
       "(0.9961981566820276, 0.9934240362811791, 0.006575963718820862)"
      ]
     },
     "execution_count": 30,
     "metadata": {},
     "output_type": "execute_result"
    }
   ],
   "source": [
    "TN_log_reg = cnf_matrix_log_reg[0][0]\n",
    "FN_log_reg = cnf_matrix_log_reg[1][0]\n",
    "TP_log_reg = cnf_matrix_log_reg[1][1]\n",
    "FP_log_reg = cnf_matrix_log_reg[0][1]\n",
    "TPR_log_reg = TP_log_reg/(TP_log_reg+FN_log_reg)\n",
    "FPR_log_reg = FP_log_reg/(FP_log_reg+TN_log_reg)\n",
    "TNR_log_reg = TN_log_reg/(FP_log_reg+TN_log_reg)\n",
    "TPR_log_reg, FPR_log_reg, TNR_log_reg"
   ]
  },
  {
   "cell_type": "code",
   "execution_count": 31,
   "metadata": {},
   "outputs": [
    {
     "data": {
      "text/plain": [
       "(0.9996543778801843, 0.9834467120181406, 0.01655328798185941)"
      ]
     },
     "execution_count": 31,
     "metadata": {},
     "output_type": "execute_result"
    }
   ],
   "source": [
    "TN_boost = cnf_matrix_boost[0][0]\n",
    "FN_boost = cnf_matrix_boost[1][0]\n",
    "TP_boost = cnf_matrix_boost[1][1]\n",
    "FP_boost = cnf_matrix_boost[0][1]\n",
    "TPR_boost = TP_boost/(TP_boost+FN_boost)\n",
    "FPR_boost = FP_boost/(FP_boost+TN_boost)\n",
    "TNR_boost = TN_boost/(FP_boost+TN_boost)\n",
    "TPR_boost, FPR_boost, TNR_boost"
   ]
  },
  {
   "cell_type": "code",
   "execution_count": 32,
   "metadata": {},
   "outputs": [
    {
     "data": {
      "text/plain": [
       "(0.8084101382488479, 0.43412698412698414, 0.5658730158730159)"
      ]
     },
     "execution_count": 32,
     "metadata": {},
     "output_type": "execute_result"
    }
   ],
   "source": [
    "TN_forest = cnf_matrix_forest[0][0]\n",
    "FN_forest = cnf_matrix_forest[1][0]\n",
    "TP_forest = cnf_matrix_forest[1][1]\n",
    "FP_forest = cnf_matrix_forest[0][1]\n",
    "TPR_forest = TP_forest/(TP_forest+FN_forest)\n",
    "FPR_forest = FP_forest/(FP_forest+TN_forest)\n",
    "TNR_forest = TN_forest/(FP_forest+TN_forest)\n",
    "TPR_forest, FPR_forest, TNR_forest"
   ]
  },
  {
   "cell_type": "markdown",
   "metadata": {},
   "source": [
    "Первые две модели, на мойвзгляд достаточно много ошибаются, FPR около 1, поэтому считаю, что лучше справилась модель номер 3 - Random Forest, если, конечно, нет косяка в обучении. "
   ]
  }
 ],
 "metadata": {
  "kernelspec": {
   "display_name": "Python 3",
   "language": "python",
   "name": "python3"
  },
  "language_info": {
   "codemirror_mode": {
    "name": "ipython",
    "version": 3
   },
   "file_extension": ".py",
   "mimetype": "text/x-python",
   "name": "python",
   "nbconvert_exporter": "python",
   "pygments_lexer": "ipython3",
   "version": "3.7.6"
  }
 },
 "nbformat": 4,
 "nbformat_minor": 4
}
